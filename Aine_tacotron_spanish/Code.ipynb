{
 "cells": [
  {
   "cell_type": "code",
   "execution_count": null,
   "id": "740c4002-ec3a-4e09-87d5-9e3f27bdc48f",
   "metadata": {},
   "outputs": [],
   "source": [
    "import pandas as pd\n",
    "import os\n",
    "# Define the root path\n",
    "root_path = \"/srv/storage/idmctal@storage1.nancy.grid5000.fr/2023/m2/adrelingyte/data/spanish/cml_tts_dataset_spanish_v0.1\"\n",
    "\n",
    "# Set the output path based on your specific configuration\n",
    "output_path = os.path.join(root_path)\n",
    "\n",
    "# Path to your \"train.csv\" file\n",
    "train_csv_path = os.path.join(root_path, \"train.csv\")\n",
    "\n",
    "# Load the \"train.csv\" file into a DataFrame\n",
    "df = pd.read_csv(train_csv_path, delimiter='|')\n",
    "print(df.head())\n",
    "# Construct full paths to the audio files using the \"wav_filename\" column\n",
    "df['full_audio_path'] = df['wav_filename'].apply(lambda x: os.path.join(root_path, x))\n",
    "\n",
    "print(df['full_audio_path'][0])"
   ]
  },
  {
   "cell_type": "code",
   "execution_count": null,
   "id": "32a95f1d-810d-4b88-b2f5-f1614ec0a06e",
   "metadata": {},
   "outputs": [],
   "source": [
    "import os\n",
    "from trainer import Trainer, TrainerArgs\n",
    "from TTS.config import BaseAudioConfig, BaseDatasetConfig\n",
    "from TTS.tts.configs.fast_speech_config import FastSpeechConfig\n",
    "from TTS.tts.datasets import load_tts_samples\n",
    "from TTS.tts.models.forward_tts import ForwardTTS\n",
    "from TTS.tts.utils.speakers import SpeakerManager\n",
    "from TTS.tts.utils.text.tokenizer import TTSTokenizer\n",
    "from TTS.utils.audio import AudioProcessor\n",
    "from TTS.tts.models.tacotron2 import Tacotron2\n",
    "\n",
    "print(torch.cuda.is_available())\n",
    "USE_CUDA = torch.cuda.is_available()\n",
    "\n",
    "# GlowTTSConfig: all model related values for training, validating and testing.\n",
    "from TTS.tts.configs.tacotron2_config import Tacotron2Config\n",
    "\n",
    "output_path = \"/srv/storage/idmctal@storage1.nancy.grid5000.fr/2023/m2/adrelingyte/data/spanish/cml_tts_dataset_spanish_v0.1\"\n",
    "\n",
    "if not os.path.exists(output_path):\n",
    "    os.makedirs(output_path)\n",
    "    \n",
    "\n",
    "# Create a BaseDatasetConfig object\n",
    "dataset_config = BaseDatasetConfig(formatter=\"custom_formatter\", meta_file_train=\"train.csv\", path=os.path.join(output_path))\n",
    "\n",
    "# Load the dataset using your custom formatter\n",
    "train_samples, eval_samples = load_tts_samples([dataset_config], eval_split=True)\n",
    "\n",
    "audio_config = BaseAudioConfig(\n",
    "    sample_rate=24000,\n",
    "    do_trim_silence=True,\n",
    "    trim_db=23.0,\n",
    "    signal_norm=False,\n",
    "    mel_fmin=0.0,\n",
    "    mel_fmax=8000,\n",
    "    spec_gain=1.0,\n",
    "    log_func=\"np.log\",\n",
    "    ref_level_db=20,\n",
    "    preemphasis=0.0,\n",
    ")\n",
    "\n",
    "# Configure your Tacotron2 model\n",
    "config = Tacotron2Config(\n",
    "    batch_size=32,\n",
    "    eval_batch_size=16,\n",
    "    num_loader_workers=4,\n",
    "    num_eval_loader_workers=4,\n",
    "    precompute_num_workers=4,\n",
    "    run_eval=True,\n",
    "    test_delay_epochs=-1,\n",
    "    epochs=100,\n",
    "    use_phonemes=True,\n",
    "    phonemizer=\"gruut\",\n",
    "    phoneme_language=\"es-es\",\n",
    "    phoneme_cache_path=os.path.join(output_path, \"phoneme_cache2\"),\n",
    "    print_step=25,\n",
    "    print_eval=False,\n",
    "    mixed_precision=True,\n",
    "    output_path=output_path,\n",
    "    datasets=[dataset_config],\n",
    "    use_speaker_embedding=True,\n",
    "    min_text_len=0,\n",
    "    max_text_len=500,\n",
    "    min_audio_len=100000,  # Adjust this value based on your requirements\n",
    "    max_audio_len=400000,  # Adjust this value based on your requirements\n",
    ")\n",
    "\n",
    "config.audio.fft_size = 2048\n",
    "config.audio.win_length = 1200\n",
    "config.audio.hop_length = 256\n",
    "config.audio.num_mels = 80\n",
    "\n",
    "ap = AudioProcessor.init_from_config(audio_config)\n",
    "\n",
    "# Initialize the TTSTokenizer\n",
    "tokenizer, config = TTSTokenizer.init_from_config(config)\n",
    "\n"
   ]
  },
  {
   "cell_type": "code",
   "execution_count": 5,
   "id": "67957ad2-9908-4004-9226-3c5e078bca4d",
   "metadata": {},
   "outputs": [
    {
     "name": "stdout",
     "output_type": "stream",
     "text": [
      " > Init speaker_embedding layer.\n"
     ]
    }
   ],
   "source": [
    "speaker_manager = SpeakerManager()\n",
    "speaker_manager.set_ids_from_data(train_samples + eval_samples, parse_key=\"speaker_name\")\n",
    "config.num_speakers = speaker_manager.num_speakers\n",
    "\n",
    "model = Tacotron2(config, ap, tokenizer, speaker_manager=speaker_manager)\n"
   ]
  },
  {
   "cell_type": "code",
   "execution_count": 6,
   "id": "96174115-e67b-4e45-87ac-146f73b1881d",
   "metadata": {},
   "outputs": [
    {
     "name": "stderr",
     "output_type": "stream",
     "text": [
      "/home/adrelingyte/.local/lib/python3.9/site-packages/torch/cuda/__init__.py:611: UserWarning: Can't initialize NVML\n",
      "  warnings.warn(\"Can't initialize NVML\")\n",
      "/home/adrelingyte/.local/lib/python3.9/site-packages/torch/cuda/__init__.py:740: UserWarning: CUDA initialization: The NVIDIA driver on your system is too old (found version 11020). Please update your GPU driver by downloading and installing a new version from the URL: http://www.nvidia.com/Download/index.aspx Alternatively, go to: https://pytorch.org to install a PyTorch version that has been compiled with your version of the CUDA driver. (Triggered internally at ../c10/cuda/CUDAFunctions.cpp:108.)\n",
      "  return torch._C._cuda_getDeviceCount() if nvml_count < 0 else nvml_count\n",
      " > Training Environment:\n",
      " | > Backend: Torch\n",
      " | > Mixed precision: True\n",
      " | > Precision: fp16\n",
      " | > Num. of CPUs: 32\n",
      " | > Num. of Torch Threads: 16\n",
      " | > Torch seed: 54321\n",
      " | > Torch CUDNN: True\n",
      " | > Torch CUDNN deterministic: False\n",
      " | > Torch CUDNN benchmark: False\n",
      " | > Torch TF32 MatMul: False\n",
      " > Start Tensorboard: tensorboard --logdir=/srv/storage/idmctal@storage1.nancy.grid5000.fr/2023/m2/adrelingyte/data/spanish/cml_tts_dataset_spanish_v0.1/run-November-01-2023_06+26PM-5e2fae5\n",
      "/home/adrelingyte/.local/lib/python3.9/site-packages/tqdm/auto.py:22: TqdmWarning: IProgress not found. Please update jupyter and ipywidgets. See https://ipywidgets.readthedocs.io/en/stable/user_install.html\n",
      "  from .autonotebook import tqdm as notebook_tqdm\n",
      "\n",
      " > Model has 32649330 parameters\n"
     ]
    },
    {
     "name": "stdout",
     "output_type": "stream",
     "text": [
      " > `speakers.pth` is saved to /srv/storage/idmctal@storage1.nancy.grid5000.fr/2023/m2/adrelingyte/data/spanish/cml_tts_dataset_spanish_v0.1/run-November-01-2023_06+26PM-5e2fae5/speakers.pth.\n",
      " > `speakers_file` is updated in the config.json.\n"
     ]
    }
   ],
   "source": [
    "trainer = Trainer(\n",
    "    TrainerArgs(), config, output_path, model=model, train_samples=train_samples, eval_samples=eval_samples\n",
    ")"
   ]
  },
  {
   "cell_type": "code",
   "execution_count": null,
   "id": "a854a976-d046-4449-9986-acf241937fd2",
   "metadata": {},
   "outputs": [
    {
     "name": "stderr",
     "output_type": "stream",
     "text": [
      "\n",
      "\u001b[4m\u001b[1m > EPOCH: 0/100\u001b[0m\n",
      " --> /srv/storage/idmctal@storage1.nancy.grid5000.fr/2023/m2/adrelingyte/data/spanish/cml_tts_dataset_spanish_v0.1/run-November-01-2023_06+26PM-5e2fae5\n"
     ]
    },
    {
     "name": "stdout",
     "output_type": "stream",
     "text": [
      "\n",
      "\n",
      "> DataLoader initialization\n",
      "| > Tokenizer:\n",
      "\t| > add_blank: False\n",
      "\t| > use_eos_bos: False\n",
      "\t| > use_phonemes: True\n",
      "\t| > phonemizer:\n",
      "\t\t| > phoneme language: es-es\n",
      "\t\t| > phoneme backend: gruut\n",
      "| > Number of instances : 166838\n"
     ]
    },
    {
     "name": "stderr",
     "output_type": "stream",
     "text": [
      "\n",
      "\u001b[1m > TRAINING (2023-11-01 18:26:31) \u001b[0m\n"
     ]
    },
    {
     "name": "stdout",
     "output_type": "stream",
     "text": [
      " | > Preprocessing samples\n",
      " | > Max text length: 2\n",
      " | > Min text length: 1\n",
      " | > Avg text length: 1.9506109219095418\n",
      " | \n",
      " | > Max audio length: 399382.0\n",
      " | > Min audio length: 100821.0\n",
      " | > Avg audio length: 245005.40084841967\n",
      " | > Num. instances discarded samples: 32942\n",
      " | > Batch group size: 0.\n",
      "ot͡ʃoot͡ʃo\n",
      "\n",
      " [!] Character '͡' not found in the vocabulary. Discarding it. [!] Character '͡' not found in the vocabulary. Discarding it.\n",
      "\n"
     ]
    },
    {
     "name": "stderr",
     "output_type": "stream",
     "text": [
      "/home/adrelingyte/.local/lib/python3.9/site-packages/torch/functional.py:504: UserWarning: torch.meshgrid: in an upcoming release, it will be required to pass the indexing argument. (Triggered internally at ../aten/src/ATen/native/TensorShape.cpp:3526.)\n",
      "  return _VF.meshgrid(tensors, **kwargs)  # type: ignore[attr-defined]\n"
     ]
    }
   ],
   "source": [
    "trainer.fit()"
   ]
  },
  {
   "cell_type": "code",
   "execution_count": null,
   "id": "250f7cc1-2185-4477-b444-7ae2e858b3b8",
   "metadata": {},
   "outputs": [],
   "source": []
  },
  {
   "cell_type": "code",
   "execution_count": null,
   "id": "98d1ec9a-14d8-4bea-b9cb-44394910a815",
   "metadata": {},
   "outputs": [],
   "source": []
  }
 ],
 "metadata": {
  "kernelspec": {
   "display_name": "Python 3 (ipykernel)",
   "language": "python",
   "name": "python3"
  },
  "language_info": {
   "codemirror_mode": {
    "name": "ipython",
    "version": 3
   },
   "file_extension": ".py",
   "mimetype": "text/x-python",
   "name": "python",
   "nbconvert_exporter": "python",
   "pygments_lexer": "ipython3",
   "version": "3.9.2"
  }
 },
 "nbformat": 4,
 "nbformat_minor": 5
}
